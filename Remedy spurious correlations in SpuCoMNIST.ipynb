{
 "cells": [
  {
   "cell_type": "markdown",
   "id": "fe8ec833",
   "metadata": {},
   "source": [
    "# Train a model using ERM"
   ]
  },
  {
   "cell_type": "code",
   "execution_count": 2,
   "id": "878f6f13",
   "metadata": {},
   "outputs": [
    {
     "name": "stdout",
     "output_type": "stream",
     "text": [
      "Requirement already satisfied: SpuCo in c:\\users\\chenbt\\appdata\\roaming\\python\\python311\\site-packages (1.0.3)\n",
      "Requirement already satisfied: matplotlib>=3.7.1 in c:\\programdata\\anaconda3\\lib\\site-packages (from SpuCo) (3.7.1)\n",
      "Requirement already satisfied: numpy>=1.23.5 in c:\\programdata\\anaconda3\\lib\\site-packages (from SpuCo) (1.24.3)\n",
      "Requirement already satisfied: setuptools>=61.0 in c:\\programdata\\anaconda3\\lib\\site-packages (from SpuCo) (67.8.0)\n",
      "Requirement already satisfied: torch>=2.0.0 in c:\\programdata\\anaconda3\\lib\\site-packages (from SpuCo) (2.0.1)\n",
      "Requirement already satisfied: torchvision>=0.15.1 in c:\\programdata\\anaconda3\\lib\\site-packages (from SpuCo) (0.15.2)\n",
      "Requirement already satisfied: tqdm>=4.65.0 in c:\\programdata\\anaconda3\\lib\\site-packages (from SpuCo) (4.65.0)\n",
      "Requirement already satisfied: scikit-learn>=0.20.0 in c:\\programdata\\anaconda3\\lib\\site-packages (from SpuCo) (1.2.2)\n",
      "Requirement already satisfied: wilds>=2.0.0 in c:\\programdata\\anaconda3\\lib\\site-packages (from SpuCo) (2.0.0)\n",
      "Requirement already satisfied: transformers>=3.5.0 in c:\\users\\chenbt\\appdata\\roaming\\python\\python311\\site-packages (from SpuCo) (4.34.0)\n",
      "Requirement already satisfied: contourpy>=1.0.1 in c:\\programdata\\anaconda3\\lib\\site-packages (from matplotlib>=3.7.1->SpuCo) (1.0.5)\n",
      "Requirement already satisfied: cycler>=0.10 in c:\\programdata\\anaconda3\\lib\\site-packages (from matplotlib>=3.7.1->SpuCo) (0.11.0)\n",
      "Requirement already satisfied: fonttools>=4.22.0 in c:\\programdata\\anaconda3\\lib\\site-packages (from matplotlib>=3.7.1->SpuCo) (4.25.0)\n",
      "Requirement already satisfied: kiwisolver>=1.0.1 in c:\\programdata\\anaconda3\\lib\\site-packages (from matplotlib>=3.7.1->SpuCo) (1.4.4)\n",
      "Requirement already satisfied: packaging>=20.0 in c:\\programdata\\anaconda3\\lib\\site-packages (from matplotlib>=3.7.1->SpuCo) (23.0)\n",
      "Requirement already satisfied: pillow>=6.2.0 in c:\\programdata\\anaconda3\\lib\\site-packages (from matplotlib>=3.7.1->SpuCo) (9.4.0)\n",
      "Requirement already satisfied: pyparsing>=2.3.1 in c:\\programdata\\anaconda3\\lib\\site-packages (from matplotlib>=3.7.1->SpuCo) (3.0.9)\n",
      "Requirement already satisfied: python-dateutil>=2.7 in c:\\programdata\\anaconda3\\lib\\site-packages (from matplotlib>=3.7.1->SpuCo) (2.8.2)\n",
      "Requirement already satisfied: scipy>=1.3.2 in c:\\programdata\\anaconda3\\lib\\site-packages (from scikit-learn>=0.20.0->SpuCo) (1.10.1)\n",
      "Requirement already satisfied: joblib>=1.1.1 in c:\\programdata\\anaconda3\\lib\\site-packages (from scikit-learn>=0.20.0->SpuCo) (1.2.0)\n",
      "Requirement already satisfied: threadpoolctl>=2.0.0 in c:\\programdata\\anaconda3\\lib\\site-packages (from scikit-learn>=0.20.0->SpuCo) (2.2.0)\n",
      "Requirement already satisfied: filelock in c:\\programdata\\anaconda3\\lib\\site-packages (from torch>=2.0.0->SpuCo) (3.9.0)\n",
      "Requirement already satisfied: typing-extensions in c:\\users\\chenbt\\appdata\\roaming\\python\\python311\\site-packages (from torch>=2.0.0->SpuCo) (4.5.0)\n",
      "Requirement already satisfied: sympy in c:\\programdata\\anaconda3\\lib\\site-packages (from torch>=2.0.0->SpuCo) (1.11.1)\n",
      "Requirement already satisfied: networkx in c:\\programdata\\anaconda3\\lib\\site-packages (from torch>=2.0.0->SpuCo) (2.8.4)\n",
      "Requirement already satisfied: jinja2 in c:\\programdata\\anaconda3\\lib\\site-packages (from torch>=2.0.0->SpuCo) (3.1.2)\n",
      "Requirement already satisfied: requests in c:\\users\\chenbt\\appdata\\roaming\\python\\python311\\site-packages (from torchvision>=0.15.1->SpuCo) (2.31.0)\n",
      "Requirement already satisfied: colorama in c:\\programdata\\anaconda3\\lib\\site-packages (from tqdm>=4.65.0->SpuCo) (0.4.6)\n",
      "Requirement already satisfied: huggingface-hub<1.0,>=0.16.4 in c:\\programdata\\anaconda3\\lib\\site-packages (from transformers>=3.5.0->SpuCo) (0.17.3)\n",
      "Requirement already satisfied: pyyaml>=5.1 in c:\\programdata\\anaconda3\\lib\\site-packages (from transformers>=3.5.0->SpuCo) (6.0)\n",
      "Requirement already satisfied: regex!=2019.12.17 in c:\\programdata\\anaconda3\\lib\\site-packages (from transformers>=3.5.0->SpuCo) (2022.7.9)\n",
      "Requirement already satisfied: tokenizers<0.15,>=0.14 in c:\\programdata\\anaconda3\\lib\\site-packages (from transformers>=3.5.0->SpuCo) (0.14.1)\n",
      "Requirement already satisfied: safetensors>=0.3.1 in c:\\programdata\\anaconda3\\lib\\site-packages (from transformers>=3.5.0->SpuCo) (0.4.0)\n",
      "Requirement already satisfied: ogb>=1.2.6 in c:\\programdata\\anaconda3\\lib\\site-packages (from wilds>=2.0.0->SpuCo) (1.3.6)\n",
      "Requirement already satisfied: outdated>=0.2.0 in c:\\programdata\\anaconda3\\lib\\site-packages (from wilds>=2.0.0->SpuCo) (0.2.2)\n",
      "Requirement already satisfied: pandas>=1.1.0 in c:\\programdata\\anaconda3\\lib\\site-packages (from wilds>=2.0.0->SpuCo) (1.5.3)\n",
      "Requirement already satisfied: pytz>=2020.4 in c:\\programdata\\anaconda3\\lib\\site-packages (from wilds>=2.0.0->SpuCo) (2022.7)\n",
      "Requirement already satisfied: fsspec in c:\\programdata\\anaconda3\\lib\\site-packages (from huggingface-hub<1.0,>=0.16.4->transformers>=3.5.0->SpuCo) (2023.3.0)\n",
      "Requirement already satisfied: six>=1.12.0 in c:\\programdata\\anaconda3\\lib\\site-packages (from ogb>=1.2.6->wilds>=2.0.0->SpuCo) (1.16.0)\n",
      "Requirement already satisfied: urllib3>=1.24.0 in c:\\programdata\\anaconda3\\lib\\site-packages (from ogb>=1.2.6->wilds>=2.0.0->SpuCo) (1.26.16)\n",
      "Requirement already satisfied: littleutils in c:\\programdata\\anaconda3\\lib\\site-packages (from outdated>=0.2.0->wilds>=2.0.0->SpuCo) (0.2.2)\n",
      "Requirement already satisfied: MarkupSafe>=2.0 in c:\\programdata\\anaconda3\\lib\\site-packages (from jinja2->torch>=2.0.0->SpuCo) (2.1.1)\n",
      "Requirement already satisfied: charset-normalizer<4,>=2 in c:\\programdata\\anaconda3\\lib\\site-packages (from requests->torchvision>=0.15.1->SpuCo) (2.0.4)\n",
      "Requirement already satisfied: idna<4,>=2.5 in c:\\programdata\\anaconda3\\lib\\site-packages (from requests->torchvision>=0.15.1->SpuCo) (3.4)\n",
      "Requirement already satisfied: certifi>=2017.4.17 in c:\\programdata\\anaconda3\\lib\\site-packages (from requests->torchvision>=0.15.1->SpuCo) (2023.5.7)\n",
      "Requirement already satisfied: mpmath>=0.19 in c:\\programdata\\anaconda3\\lib\\site-packages (from sympy->torch>=2.0.0->SpuCo) (1.2.1)\n"
     ]
    }
   ],
   "source": [
    "#install the SpuCo package\n",
    "!pip install SpuCo --user"
   ]
  },
  {
   "cell_type": "code",
   "execution_count": 1,
   "id": "df2b76e8",
   "metadata": {},
   "outputs": [],
   "source": [
    "import torch\n",
    "from spuco.utils import set_seed\n",
    "set_seed(0)"
   ]
  },
  {
   "cell_type": "code",
   "execution_count": 3,
   "id": "a4e92c1e",
   "metadata": {},
   "outputs": [
    {
     "name": "stderr",
     "output_type": "stream",
     "text": [
      "100%|█████████████████████████████████████████████████████████████████████████| 11996/11996 [00:00<00:00, 12166.43it/s]\n"
     ]
    }
   ],
   "source": [
    "from spuco.datasets import SpuCoMNIST, SpuriousFeatureDifficulty\n",
    "\n",
    "classes = [[0, 1], [2, 3], [4, 5], [6, 7], [8, 9]]\n",
    "difficulty = SpuriousFeatureDifficulty.MAGNITUDE_LARGE\n",
    "\n",
    "valset = SpuCoMNIST(\n",
    "    root=\"/data/mnist/\",\n",
    "    spurious_feature_difficulty=difficulty,\n",
    "    classes=classes,\n",
    "    split=\"val\"\n",
    ")\n",
    "valset.initialize()"
   ]
  },
  {
   "cell_type": "code",
   "execution_count": 4,
   "id": "746b03cf",
   "metadata": {},
   "outputs": [
    {
     "name": "stderr",
     "output_type": "stream",
     "text": [
      "100%|█████████████████████████████████████████████████████████████████████████| 48004/48004 [00:04<00:00, 11403.43it/s]\n",
      "100%|██████████████████████████████████████████████████████████████████████████| 10000/10000 [00:01<00:00, 9956.71it/s]\n"
     ]
    }
   ],
   "source": [
    "from spuco.robust_train import ERM\n",
    "from spuco.datasets import SpuCoMNIST, SpuriousFeatureDifficulty\n",
    "import torchvision.transforms as T\n",
    "\n",
    "classes = [[0, 1], [2, 3], [4, 5], [6, 7], [8, 9]]\n",
    "difficulty = SpuriousFeatureDifficulty.MAGNITUDE_LARGE\n",
    "\n",
    "trainset = SpuCoMNIST(\n",
    "    root=\"/data/mnist/\",\n",
    "    spurious_feature_difficulty=difficulty,\n",
    "    spurious_correlation_strength=0.99,\n",
    "    classes=classes,\n",
    "    split=\"train\"\n",
    ")\n",
    "trainset.initialize()\n",
    "\n",
    "testset = SpuCoMNIST(\n",
    "    root=\"/data/mnist/\",\n",
    "    spurious_feature_difficulty=difficulty,\n",
    "    classes=classes,\n",
    "    split=\"test\"\n",
    ")\n",
    "testset.initialize()"
   ]
  },
  {
   "cell_type": "code",
   "execution_count": 5,
   "id": "97923f33",
   "metadata": {},
   "outputs": [],
   "source": [
    "from spuco.models import model_factory \n",
    "\n",
    "model = model_factory(\"lenet\", trainset[0][0].shape, trainset.num_classes)"
   ]
  },
  {
   "cell_type": "code",
   "execution_count": 6,
   "id": "9d7f20cc",
   "metadata": {},
   "outputs": [],
   "source": [
    "from torch.optim import SGD\n",
    "\n",
    "erm = ERM(\n",
    "    model=model,\n",
    "    num_epochs=1,\n",
    "    trainset=trainset,\n",
    "    batch_size=64,\n",
    "    optimizer=SGD(model.parameters(), lr=1e-2, momentum=0.9, nesterov=True),\n",
    "    verbose=True\n",
    ")"
   ]
  },
  {
   "cell_type": "code",
   "execution_count": 7,
   "id": "2ca6dcda",
   "metadata": {},
   "outputs": [
    {
     "name": "stderr",
     "output_type": "stream",
     "text": [
      "Epoch 0: 100%|█████████████████████████████████████| 751/751 [00:42<00:00, 17.68batch/s, accuracy=100.0%, loss=0.00865]\n"
     ]
    }
   ],
   "source": [
    "erm.train()"
   ]
  },
  {
   "cell_type": "code",
   "execution_count": 8,
   "id": "1a1ec063",
   "metadata": {},
   "outputs": [
    {
     "name": "stderr",
     "output_type": "stream",
     "text": [
      "Evaluating group-wise accuracy:   4%|██                                                 | 1/25 [00:15<06:07, 15.32s/it]"
     ]
    },
    {
     "name": "stdout",
     "output_type": "stream",
     "text": [
      "Group (0, 0) Accuracy: 100.0\n"
     ]
    },
    {
     "name": "stderr",
     "output_type": "stream",
     "text": [
      "\r",
      "Evaluating group-wise accuracy:   8%|████                                               | 2/25 [00:32<06:11, 16.14s/it]"
     ]
    },
    {
     "name": "stdout",
     "output_type": "stream",
     "text": [
      "Group (0, 1) Accuracy: 0.0\n"
     ]
    },
    {
     "name": "stderr",
     "output_type": "stream",
     "text": [
      "\r",
      "Evaluating group-wise accuracy:  12%|██████                                             | 3/25 [00:52<06:34, 17.94s/it]"
     ]
    },
    {
     "name": "stdout",
     "output_type": "stream",
     "text": [
      "Group (0, 2) Accuracy: 0.0\n"
     ]
    },
    {
     "name": "stderr",
     "output_type": "stream",
     "text": [
      "\r",
      "Evaluating group-wise accuracy:  16%|████████▏                                          | 4/25 [01:12<06:35, 18.83s/it]"
     ]
    },
    {
     "name": "stdout",
     "output_type": "stream",
     "text": [
      "Group (0, 3) Accuracy: 0.0\n"
     ]
    },
    {
     "name": "stderr",
     "output_type": "stream",
     "text": [
      "\r",
      "Evaluating group-wise accuracy:  20%|██████████▏                                        | 5/25 [01:30<06:13, 18.70s/it]"
     ]
    },
    {
     "name": "stdout",
     "output_type": "stream",
     "text": [
      "Group (0, 4) Accuracy: 0.0\n"
     ]
    },
    {
     "name": "stderr",
     "output_type": "stream",
     "text": [
      "\r",
      "Evaluating group-wise accuracy:  24%|████████████▏                                      | 6/25 [01:50<05:59, 18.94s/it]"
     ]
    },
    {
     "name": "stdout",
     "output_type": "stream",
     "text": [
      "Group (1, 0) Accuracy: 0.0\n"
     ]
    },
    {
     "name": "stderr",
     "output_type": "stream",
     "text": [
      "\r",
      "Evaluating group-wise accuracy:  28%|██████████████▎                                    | 7/25 [02:08<05:38, 18.79s/it]"
     ]
    },
    {
     "name": "stdout",
     "output_type": "stream",
     "text": [
      "Group (1, 1) Accuracy: 100.0\n"
     ]
    },
    {
     "name": "stderr",
     "output_type": "stream",
     "text": [
      "\r",
      "Evaluating group-wise accuracy:  32%|████████████████▎                                  | 8/25 [02:25<05:06, 18.04s/it]"
     ]
    },
    {
     "name": "stdout",
     "output_type": "stream",
     "text": [
      "Group (1, 2) Accuracy: 0.0\n"
     ]
    },
    {
     "name": "stderr",
     "output_type": "stream",
     "text": [
      "\r",
      "Evaluating group-wise accuracy:  36%|██████████████████▎                                | 9/25 [02:43<04:51, 18.22s/it]"
     ]
    },
    {
     "name": "stdout",
     "output_type": "stream",
     "text": [
      "Group (1, 3) Accuracy: 0.0\n"
     ]
    },
    {
     "name": "stderr",
     "output_type": "stream",
     "text": [
      "\r",
      "Evaluating group-wise accuracy:  40%|████████████████████                              | 10/25 [02:59<04:21, 17.43s/it]"
     ]
    },
    {
     "name": "stdout",
     "output_type": "stream",
     "text": [
      "Group (1, 4) Accuracy: 0.0\n"
     ]
    },
    {
     "name": "stderr",
     "output_type": "stream",
     "text": [
      "\r",
      "Evaluating group-wise accuracy:  44%|██████████████████████                            | 11/25 [03:17<04:05, 17.54s/it]"
     ]
    },
    {
     "name": "stdout",
     "output_type": "stream",
     "text": [
      "Group (2, 0) Accuracy: 0.0\n"
     ]
    },
    {
     "name": "stderr",
     "output_type": "stream",
     "text": [
      "\r",
      "Evaluating group-wise accuracy:  48%|████████████████████████                          | 12/25 [03:33<03:41, 17.06s/it]"
     ]
    },
    {
     "name": "stdout",
     "output_type": "stream",
     "text": [
      "Group (2, 1) Accuracy: 0.0\n"
     ]
    },
    {
     "name": "stderr",
     "output_type": "stream",
     "text": [
      "\r",
      "Evaluating group-wise accuracy:  52%|██████████████████████████                        | 13/25 [03:49<03:22, 16.86s/it]"
     ]
    },
    {
     "name": "stdout",
     "output_type": "stream",
     "text": [
      "Group (2, 2) Accuracy: 100.0\n"
     ]
    },
    {
     "name": "stderr",
     "output_type": "stream",
     "text": [
      "\r",
      "Evaluating group-wise accuracy:  56%|████████████████████████████                      | 14/25 [04:05<03:04, 16.73s/it]"
     ]
    },
    {
     "name": "stdout",
     "output_type": "stream",
     "text": [
      "Group (2, 3) Accuracy: 0.0\n"
     ]
    },
    {
     "name": "stderr",
     "output_type": "stream",
     "text": [
      "\r",
      "Evaluating group-wise accuracy:  60%|██████████████████████████████                    | 15/25 [04:22<02:45, 16.53s/it]"
     ]
    },
    {
     "name": "stdout",
     "output_type": "stream",
     "text": [
      "Group (2, 4) Accuracy: 0.0\n"
     ]
    },
    {
     "name": "stderr",
     "output_type": "stream",
     "text": [
      "\r",
      "Evaluating group-wise accuracy:  64%|████████████████████████████████                  | 16/25 [04:38<02:28, 16.51s/it]"
     ]
    },
    {
     "name": "stdout",
     "output_type": "stream",
     "text": [
      "Group (3, 0) Accuracy: 0.0\n"
     ]
    },
    {
     "name": "stderr",
     "output_type": "stream",
     "text": [
      "\r",
      "Evaluating group-wise accuracy:  68%|██████████████████████████████████                | 17/25 [04:55<02:14, 16.78s/it]"
     ]
    },
    {
     "name": "stdout",
     "output_type": "stream",
     "text": [
      "Group (3, 1) Accuracy: 0.0\n"
     ]
    },
    {
     "name": "stderr",
     "output_type": "stream",
     "text": [
      "\r",
      "Evaluating group-wise accuracy:  72%|████████████████████████████████████              | 18/25 [05:12<01:56, 16.67s/it]"
     ]
    },
    {
     "name": "stdout",
     "output_type": "stream",
     "text": [
      "Group (3, 2) Accuracy: 0.0\n"
     ]
    },
    {
     "name": "stderr",
     "output_type": "stream",
     "text": [
      "\r",
      "Evaluating group-wise accuracy:  76%|██████████████████████████████████████            | 19/25 [05:27<01:38, 16.35s/it]"
     ]
    },
    {
     "name": "stdout",
     "output_type": "stream",
     "text": [
      "Group (3, 3) Accuracy: 100.0\n"
     ]
    },
    {
     "name": "stderr",
     "output_type": "stream",
     "text": [
      "\r",
      "Evaluating group-wise accuracy:  80%|████████████████████████████████████████          | 20/25 [05:44<01:21, 16.37s/it]"
     ]
    },
    {
     "name": "stdout",
     "output_type": "stream",
     "text": [
      "Group (3, 4) Accuracy: 0.0\n"
     ]
    },
    {
     "name": "stderr",
     "output_type": "stream",
     "text": [
      "\r",
      "Evaluating group-wise accuracy:  84%|██████████████████████████████████████████        | 21/25 [06:03<01:08, 17.12s/it]"
     ]
    },
    {
     "name": "stdout",
     "output_type": "stream",
     "text": [
      "Group (4, 0) Accuracy: 0.0\n"
     ]
    },
    {
     "name": "stderr",
     "output_type": "stream",
     "text": [
      "\r",
      "Evaluating group-wise accuracy:  88%|████████████████████████████████████████████      | 22/25 [06:20<00:51, 17.17s/it]"
     ]
    },
    {
     "name": "stdout",
     "output_type": "stream",
     "text": [
      "Group (4, 1) Accuracy: 0.0\n"
     ]
    },
    {
     "name": "stderr",
     "output_type": "stream",
     "text": [
      "\r",
      "Evaluating group-wise accuracy:  92%|██████████████████████████████████████████████    | 23/25 [06:36<00:33, 16.80s/it]"
     ]
    },
    {
     "name": "stdout",
     "output_type": "stream",
     "text": [
      "Group (4, 2) Accuracy: 0.0\n"
     ]
    },
    {
     "name": "stderr",
     "output_type": "stream",
     "text": [
      "\r",
      "Evaluating group-wise accuracy:  96%|████████████████████████████████████████████████  | 24/25 [06:52<00:16, 16.59s/it]"
     ]
    },
    {
     "name": "stdout",
     "output_type": "stream",
     "text": [
      "Group (4, 3) Accuracy: 1.7676767676767677\n"
     ]
    },
    {
     "name": "stderr",
     "output_type": "stream",
     "text": [
      "Evaluating group-wise accuracy: 100%|██████████████████████████████████████████████████| 25/25 [07:08<00:00, 17.13s/it]"
     ]
    },
    {
     "name": "stdout",
     "output_type": "stream",
     "text": [
      "Group (4, 4) Accuracy: 100.0\n"
     ]
    },
    {
     "name": "stderr",
     "output_type": "stream",
     "text": [
      "\n"
     ]
    },
    {
     "data": {
      "text/plain": [
       "{(0, 0): 100.0,\n",
       " (0, 1): 0.0,\n",
       " (0, 2): 0.0,\n",
       " (0, 3): 0.0,\n",
       " (0, 4): 0.0,\n",
       " (1, 0): 0.0,\n",
       " (1, 1): 100.0,\n",
       " (1, 2): 0.0,\n",
       " (1, 3): 0.0,\n",
       " (1, 4): 0.0,\n",
       " (2, 0): 0.0,\n",
       " (2, 1): 0.0,\n",
       " (2, 2): 100.0,\n",
       " (2, 3): 0.0,\n",
       " (2, 4): 0.0,\n",
       " (3, 0): 0.0,\n",
       " (3, 1): 0.0,\n",
       " (3, 2): 0.0,\n",
       " (3, 3): 100.0,\n",
       " (3, 4): 0.0,\n",
       " (4, 0): 0.0,\n",
       " (4, 1): 0.0,\n",
       " (4, 2): 0.0,\n",
       " (4, 3): 1.7676767676767677,\n",
       " (4, 4): 100.0}"
      ]
     },
     "execution_count": 8,
     "metadata": {},
     "output_type": "execute_result"
    }
   ],
   "source": [
    "from spuco.evaluate import Evaluator\n",
    "\n",
    "evaluator = Evaluator(\n",
    "    testset=testset,\n",
    "    group_partition=testset.group_partition,\n",
    "    group_weights=trainset.group_weights,\n",
    "    batch_size=64,\n",
    "    model=model,\n",
    "    verbose=True\n",
    ")\n",
    "evaluator.evaluate()"
   ]
  },
  {
   "cell_type": "code",
   "execution_count": 9,
   "id": "acd2fd0c",
   "metadata": {},
   "outputs": [
    {
     "data": {
      "text/plain": [
       "((0, 1), 0.0)"
      ]
     },
     "execution_count": 9,
     "metadata": {},
     "output_type": "execute_result"
    }
   ],
   "source": [
    "evaluator.worst_group_accuracy"
   ]
  },
  {
   "cell_type": "code",
   "execution_count": 10,
   "id": "14b5c652",
   "metadata": {},
   "outputs": [
    {
     "data": {
      "text/plain": [
       "98.99453349426267"
      ]
     },
     "execution_count": 10,
     "metadata": {},
     "output_type": "execute_result"
    }
   ],
   "source": [
    "evaluator.average_accuracy"
   ]
  },
  {
   "cell_type": "code",
   "execution_count": 11,
   "id": "fb791284",
   "metadata": {},
   "outputs": [
    {
     "data": {
      "text/plain": [
       "99.89"
      ]
     },
     "execution_count": 11,
     "metadata": {},
     "output_type": "execute_result"
    }
   ],
   "source": [
    "evaluator.evaluate_spurious_attribute_prediction()"
   ]
  },
  {
   "cell_type": "markdown",
   "id": "837b3dd7",
   "metadata": {},
   "source": [
    "# Cluster inputs based on the output they produce for ERM"
   ]
  },
  {
   "cell_type": "code",
   "execution_count": 12,
   "id": "15e44e33",
   "metadata": {},
   "outputs": [
    {
     "name": "stderr",
     "output_type": "stream",
     "text": [
      "Epoch 0: 100%|██████████████████████████████████████| 751/751 [00:44<00:00, 16.81batch/s, accuracy=100.0%, loss=0.0113]\n"
     ]
    }
   ],
   "source": [
    "from spuco.utils import Trainer\n",
    "\n",
    "model = model_factory(\"lenet\", trainset[0][0].shape, trainset.num_classes)\n",
    "trainer = Trainer(\n",
    "    trainset=trainset,\n",
    "    model=model,\n",
    "    batch_size=64,\n",
    "    optimizer=SGD(model.parameters(), lr=1e-3, weight_decay=5e-4, momentum=0.9, nesterov=True),\n",
    "    verbose=True\n",
    ")\n",
    "\n",
    "trainer.train(1)"
   ]
  },
  {
   "cell_type": "code",
   "execution_count": 13,
   "id": "519ee9a6",
   "metadata": {},
   "outputs": [
    {
     "name": "stderr",
     "output_type": "stream",
     "text": [
      "Getting Trainset Outputs: 100%|███████████████████████████████████████████████████| 751/751 [00:40<00:00, 18.52batch/s]\n",
      "Clustering class-wise: 100%|█████████████████████████████████████████████████████████████| 5/5 [00:01<00:00,  3.45it/s]\n"
     ]
    }
   ],
   "source": [
    "from spuco.group_inference import Cluster, ClusterAlg\n",
    "\n",
    "logits = trainer.get_trainset_outputs()\n",
    "cluster = Cluster(\n",
    "    Z=logits,\n",
    "    class_labels=trainset.labels,\n",
    "    cluster_alg=ClusterAlg.KMEANS,\n",
    "    num_clusters=2,\n",
    "    verbose=True\n",
    ")\n",
    "group_partition = cluster.infer_groups()"
   ]
  },
  {
   "cell_type": "code",
   "execution_count": 14,
   "id": "b4760824",
   "metadata": {},
   "outputs": [
    {
     "name": "stdout",
     "output_type": "stream",
     "text": [
      "(0, 0) 10061\n",
      "(0, 1) 72\n",
      "(1, 0) 9607\n",
      "(1, 1) 65\n",
      "(2, 0) 8936\n",
      "(2, 1) 75\n",
      "(3, 0) 9703\n",
      "(3, 1) 44\n",
      "(4, 0) 9365\n",
      "(4, 1) 76\n"
     ]
    }
   ],
   "source": [
    "for key in sorted(group_partition.keys()):\n",
    "    print(key, len(group_partition[key]))"
   ]
  },
  {
   "cell_type": "code",
   "execution_count": 15,
   "id": "00a386e9",
   "metadata": {},
   "outputs": [
    {
     "name": "stderr",
     "output_type": "stream",
     "text": [
      "Evaluating group-wise accuracy:  10%|█████                                              | 1/10 [00:39<05:57, 39.69s/it]"
     ]
    },
    {
     "name": "stdout",
     "output_type": "stream",
     "text": [
      "Group (0, 0) Accuracy: 99.70181890468145\n"
     ]
    },
    {
     "name": "stderr",
     "output_type": "stream",
     "text": [
      "\r",
      "Evaluating group-wise accuracy:  20%|██████████▏                                        | 2/10 [01:12<04:43, 35.48s/it]"
     ]
    },
    {
     "name": "stdout",
     "output_type": "stream",
     "text": [
      "Group (0, 1) Accuracy: 0.0\n"
     ]
    },
    {
     "name": "stderr",
     "output_type": "stream",
     "text": [
      "\r",
      "Evaluating group-wise accuracy:  30%|███████████████▎                                   | 3/10 [01:52<04:22, 37.49s/it]"
     ]
    },
    {
     "name": "stdout",
     "output_type": "stream",
     "text": [
      "Group (1, 0) Accuracy: 99.66690954512335\n"
     ]
    },
    {
     "name": "stderr",
     "output_type": "stream",
     "text": [
      "\r",
      "Evaluating group-wise accuracy:  40%|████████████████████▍                              | 4/10 [02:33<03:53, 38.97s/it]"
     ]
    },
    {
     "name": "stdout",
     "output_type": "stream",
     "text": [
      "Group (1, 1) Accuracy: 0.0\n"
     ]
    },
    {
     "name": "stderr",
     "output_type": "stream",
     "text": [
      "\r",
      "Evaluating group-wise accuracy:  50%|█████████████████████████▌                         | 5/10 [03:10<03:11, 38.34s/it]"
     ]
    },
    {
     "name": "stdout",
     "output_type": "stream",
     "text": [
      "Group (2, 0) Accuracy: 99.82094897045658\n"
     ]
    },
    {
     "name": "stderr",
     "output_type": "stream",
     "text": [
      "\r",
      "Evaluating group-wise accuracy:  60%|██████████████████████████████▌                    | 6/10 [03:41<02:22, 35.68s/it]"
     ]
    },
    {
     "name": "stdout",
     "output_type": "stream",
     "text": [
      "Group (2, 1) Accuracy: 0.0\n"
     ]
    },
    {
     "name": "stderr",
     "output_type": "stream",
     "text": [
      "\r",
      "Evaluating group-wise accuracy:  70%|███████████████████████████████████▋               | 7/10 [04:15<01:45, 35.21s/it]"
     ]
    },
    {
     "name": "stdout",
     "output_type": "stream",
     "text": [
      "Group (3, 0) Accuracy: 99.44347109141502\n"
     ]
    },
    {
     "name": "stderr",
     "output_type": "stream",
     "text": [
      "\r",
      "Evaluating group-wise accuracy:  80%|████████████████████████████████████████▊          | 8/10 [04:48<01:09, 34.70s/it]"
     ]
    },
    {
     "name": "stdout",
     "output_type": "stream",
     "text": [
      "Group (3, 1) Accuracy: 0.0\n"
     ]
    },
    {
     "name": "stderr",
     "output_type": "stream",
     "text": [
      "\r",
      "Evaluating group-wise accuracy:  90%|█████████████████████████████████████████████▉     | 9/10 [05:25<00:35, 35.32s/it]"
     ]
    },
    {
     "name": "stdout",
     "output_type": "stream",
     "text": [
      "Group (4, 0) Accuracy: 99.7971169247197\n"
     ]
    },
    {
     "name": "stderr",
     "output_type": "stream",
     "text": [
      "Evaluating group-wise accuracy: 100%|██████████████████████████████████████████████████| 10/10 [05:59<00:00, 35.99s/it]"
     ]
    },
    {
     "name": "stdout",
     "output_type": "stream",
     "text": [
      "Group (4, 1) Accuracy: 0.0\n"
     ]
    },
    {
     "name": "stderr",
     "output_type": "stream",
     "text": [
      "\n"
     ]
    },
    {
     "data": {
      "text/plain": [
       "{(0, 0): 99.70181890468145,\n",
       " (0, 1): 0.0,\n",
       " (1, 0): 99.66690954512335,\n",
       " (1, 1): 0.0,\n",
       " (2, 0): 99.82094897045658,\n",
       " (2, 1): 0.0,\n",
       " (3, 0): 99.44347109141502,\n",
       " (3, 1): 0.0,\n",
       " (4, 0): 99.7971169247197,\n",
       " (4, 1): 0.0}"
      ]
     },
     "execution_count": 15,
     "metadata": {},
     "output_type": "execute_result"
    }
   ],
   "source": [
    "from spuco.evaluate import Evaluator \n",
    "\n",
    "evaluator = Evaluator(\n",
    "    testset=trainset,\n",
    "    group_partition=group_partition,\n",
    "    group_weights=trainset.group_weights,\n",
    "    batch_size=64,\n",
    "    model=model,\n",
    "    verbose=True\n",
    ")\n",
    "evaluator.evaluate()"
   ]
  },
  {
   "cell_type": "code",
   "execution_count": 16,
   "id": "62412018",
   "metadata": {},
   "outputs": [
    {
     "data": {
      "text/plain": [
       "((0, 1), 0.0)"
      ]
     },
     "execution_count": 16,
     "metadata": {},
     "output_type": "execute_result"
    }
   ],
   "source": [
    "evaluator.worst_group_accuracy"
   ]
  },
  {
   "cell_type": "code",
   "execution_count": 17,
   "id": "98fcebda",
   "metadata": {},
   "outputs": [
    {
     "data": {
      "text/plain": [
       "21.037347177320918"
      ]
     },
     "execution_count": 17,
     "metadata": {},
     "output_type": "execute_result"
    }
   ],
   "source": [
    "evaluator.average_accuracy"
   ]
  },
  {
   "cell_type": "code",
   "execution_count": 18,
   "id": "76b98f7f",
   "metadata": {},
   "outputs": [
    {
     "data": {
      "text/plain": [
       "21.123239730022497"
      ]
     },
     "execution_count": 18,
     "metadata": {},
     "output_type": "execute_result"
    }
   ],
   "source": [
    "evaluator.evaluate_spurious_attribute_prediction()"
   ]
  },
  {
   "cell_type": "markdown",
   "id": "7ea3272a",
   "metadata": {},
   "source": [
    "# Retrain using \"Group-Balancing\" to ensure each you sample batches s.t. each group appears equally"
   ]
  },
  {
   "cell_type": "code",
   "execution_count": 19,
   "id": "617a5e81",
   "metadata": {},
   "outputs": [
    {
     "name": "stderr",
     "output_type": "stream",
     "text": [
      "Epoch 0: 100%|█████████████████████████████████████████| 751/751 [00:40<00:00, 18.55batch/s, accuracy=75.0%, loss=1.26]\n",
      "Epoch 1: 100%|████████████████████████████████████████| 751/751 [00:46<00:00, 16.19batch/s, accuracy=75.0%, loss=0.858]\n",
      "Epoch 2: 100%|███████████████████████████████████████| 751/751 [00:49<00:00, 15.18batch/s, accuracy=100.0%, loss=0.168]\n",
      "Epoch 3: 100%|████████████████████████████████████████| 751/751 [00:47<00:00, 15.97batch/s, accuracy=100.0%, loss=0.43]\n",
      "Epoch 4: 100%|██████████████████████████████████████| 751/751 [00:49<00:00, 15.30batch/s, accuracy=100.0%, loss=0.0261]\n"
     ]
    }
   ],
   "source": [
    "from torch.optim import SGD\n",
    "from spuco.robust_train import GroupBalanceBatchERM, ClassBalanceBatchERM\n",
    "from spuco.models import model_factory \n",
    "\n",
    "model = model_factory(\"lenet\", trainset[0][0].shape, trainset.num_classes)\n",
    "group_balance_erm = GroupBalanceBatchERM(\n",
    "    model=model,\n",
    "    num_epochs=5,\n",
    "    trainset=trainset,\n",
    "    group_partition=group_partition,\n",
    "    batch_size=64,\n",
    "    optimizer=SGD(model.parameters(), lr=1e-3, weight_decay=5e-4, momentum=0.9, nesterov=True),\n",
    "    verbose=True\n",
    ")\n",
    "group_balance_erm.train()"
   ]
  },
  {
   "cell_type": "code",
   "execution_count": 20,
   "id": "f01a011f",
   "metadata": {},
   "outputs": [
    {
     "name": "stderr",
     "output_type": "stream",
     "text": [
      "Evaluating group-wise accuracy:   4%|██                                                 | 1/25 [00:14<05:45, 14.41s/it]"
     ]
    },
    {
     "name": "stdout",
     "output_type": "stream",
     "text": [
      "Group (0, 0) Accuracy: 98.58156028368795\n"
     ]
    },
    {
     "name": "stderr",
     "output_type": "stream",
     "text": [
      "\r",
      "Evaluating group-wise accuracy:   8%|████                                               | 2/25 [00:27<05:18, 13.87s/it]"
     ]
    },
    {
     "name": "stdout",
     "output_type": "stream",
     "text": [
      "Group (0, 1) Accuracy: 13.238770685579196\n"
     ]
    },
    {
     "name": "stderr",
     "output_type": "stream",
     "text": [
      "\r",
      "Evaluating group-wise accuracy:  12%|██████                                             | 3/25 [00:43<05:19, 14.53s/it]"
     ]
    },
    {
     "name": "stdout",
     "output_type": "stream",
     "text": [
      "Group (0, 2) Accuracy: 93.3806146572104\n"
     ]
    },
    {
     "name": "stderr",
     "output_type": "stream",
     "text": [
      "\r",
      "Evaluating group-wise accuracy:  16%|████████▏                                          | 4/25 [01:00<05:26, 15.53s/it]"
     ]
    },
    {
     "name": "stdout",
     "output_type": "stream",
     "text": [
      "Group (0, 3) Accuracy: 85.81560283687944\n"
     ]
    },
    {
     "name": "stderr",
     "output_type": "stream",
     "text": [
      "\r",
      "Evaluating group-wise accuracy:  20%|██████████▏                                        | 5/25 [01:18<05:27, 16.38s/it]"
     ]
    },
    {
     "name": "stdout",
     "output_type": "stream",
     "text": [
      "Group (0, 4) Accuracy: 92.90780141843972\n"
     ]
    },
    {
     "name": "stderr",
     "output_type": "stream",
     "text": [
      "\r",
      "Evaluating group-wise accuracy:  24%|████████████▏                                      | 6/25 [01:34<05:11, 16.41s/it]"
     ]
    },
    {
     "name": "stdout",
     "output_type": "stream",
     "text": [
      "Group (1, 0) Accuracy: 32.02933985330073\n"
     ]
    },
    {
     "name": "stderr",
     "output_type": "stream",
     "text": [
      "\r",
      "Evaluating group-wise accuracy:  28%|██████████████▎                                    | 7/25 [01:52<05:02, 16.80s/it]"
     ]
    },
    {
     "name": "stdout",
     "output_type": "stream",
     "text": [
      "Group (1, 1) Accuracy: 88.75305623471883\n"
     ]
    },
    {
     "name": "stderr",
     "output_type": "stream",
     "text": [
      "\r",
      "Evaluating group-wise accuracy:  32%|████████████████▎                                  | 8/25 [02:09<04:47, 16.93s/it]"
     ]
    },
    {
     "name": "stdout",
     "output_type": "stream",
     "text": [
      "Group (1, 2) Accuracy: 68.38235294117646\n"
     ]
    },
    {
     "name": "stderr",
     "output_type": "stream",
     "text": [
      "\r",
      "Evaluating group-wise accuracy:  36%|██████████████████▎                                | 9/25 [02:28<04:41, 17.61s/it]"
     ]
    },
    {
     "name": "stdout",
     "output_type": "stream",
     "text": [
      "Group (1, 3) Accuracy: 77.69607843137256\n"
     ]
    },
    {
     "name": "stderr",
     "output_type": "stream",
     "text": [
      "\r",
      "Evaluating group-wise accuracy:  40%|████████████████████                              | 10/25 [02:45<04:18, 17.26s/it]"
     ]
    },
    {
     "name": "stdout",
     "output_type": "stream",
     "text": [
      "Group (1, 4) Accuracy: 67.6470588235294\n"
     ]
    },
    {
     "name": "stderr",
     "output_type": "stream",
     "text": [
      "\r",
      "Evaluating group-wise accuracy:  44%|██████████████████████                            | 11/25 [03:02<04:01, 17.22s/it]"
     ]
    },
    {
     "name": "stdout",
     "output_type": "stream",
     "text": [
      "Group (2, 0) Accuracy: 58.666666666666664\n"
     ]
    },
    {
     "name": "stderr",
     "output_type": "stream",
     "text": [
      "\r",
      "Evaluating group-wise accuracy:  48%|████████████████████████                          | 12/25 [03:18<03:41, 17.06s/it]"
     ]
    },
    {
     "name": "stdout",
     "output_type": "stream",
     "text": [
      "Group (2, 1) Accuracy: 84.8\n"
     ]
    },
    {
     "name": "stderr",
     "output_type": "stream",
     "text": [
      "\r",
      "Evaluating group-wise accuracy:  52%|██████████████████████████                        | 13/25 [03:34<03:20, 16.72s/it]"
     ]
    },
    {
     "name": "stdout",
     "output_type": "stream",
     "text": [
      "Group (2, 2) Accuracy: 97.06666666666666\n"
     ]
    },
    {
     "name": "stderr",
     "output_type": "stream",
     "text": [
      "\r",
      "Evaluating group-wise accuracy:  56%|████████████████████████████                      | 14/25 [03:52<03:06, 16.96s/it]"
     ]
    },
    {
     "name": "stdout",
     "output_type": "stream",
     "text": [
      "Group (2, 3) Accuracy: 5.066666666666666\n"
     ]
    },
    {
     "name": "stderr",
     "output_type": "stream",
     "text": [
      "\r",
      "Evaluating group-wise accuracy:  60%|██████████████████████████████                    | 15/25 [04:11<02:55, 17.58s/it]"
     ]
    },
    {
     "name": "stdout",
     "output_type": "stream",
     "text": [
      "Group (2, 4) Accuracy: 64.97326203208556\n"
     ]
    },
    {
     "name": "stderr",
     "output_type": "stream",
     "text": [
      "\r",
      "Evaluating group-wise accuracy:  64%|████████████████████████████████                  | 16/25 [04:29<02:40, 17.82s/it]"
     ]
    },
    {
     "name": "stdout",
     "output_type": "stream",
     "text": [
      "Group (3, 0) Accuracy: 80.90452261306532\n"
     ]
    },
    {
     "name": "stderr",
     "output_type": "stream",
     "text": [
      "\r",
      "Evaluating group-wise accuracy:  68%|██████████████████████████████████                | 17/25 [04:47<02:22, 17.76s/it]"
     ]
    },
    {
     "name": "stdout",
     "output_type": "stream",
     "text": [
      "Group (3, 1) Accuracy: 86.64987405541562\n"
     ]
    },
    {
     "name": "stderr",
     "output_type": "stream",
     "text": [
      "\r",
      "Evaluating group-wise accuracy:  72%|████████████████████████████████████              | 18/25 [05:04<02:04, 17.71s/it]"
     ]
    },
    {
     "name": "stdout",
     "output_type": "stream",
     "text": [
      "Group (3, 2) Accuracy: 6.801007556675063\n"
     ]
    },
    {
     "name": "stderr",
     "output_type": "stream",
     "text": [
      "\r",
      "Evaluating group-wise accuracy:  76%|██████████████████████████████████████            | 19/25 [05:22<01:46, 17.76s/it]"
     ]
    },
    {
     "name": "stdout",
     "output_type": "stream",
     "text": [
      "Group (3, 3) Accuracy: 98.48866498740554\n"
     ]
    },
    {
     "name": "stderr",
     "output_type": "stream",
     "text": [
      "\r",
      "Evaluating group-wise accuracy:  80%|████████████████████████████████████████          | 20/25 [05:42<01:31, 18.25s/it]"
     ]
    },
    {
     "name": "stdout",
     "output_type": "stream",
     "text": [
      "Group (3, 4) Accuracy: 10.075566750629722\n"
     ]
    },
    {
     "name": "stderr",
     "output_type": "stream",
     "text": [
      "\r",
      "Evaluating group-wise accuracy:  84%|██████████████████████████████████████████        | 21/25 [06:03<01:16, 19.04s/it]"
     ]
    },
    {
     "name": "stdout",
     "output_type": "stream",
     "text": [
      "Group (4, 0) Accuracy: 81.61209068010075\n"
     ]
    },
    {
     "name": "stderr",
     "output_type": "stream",
     "text": [
      "\r",
      "Evaluating group-wise accuracy:  88%|████████████████████████████████████████████      | 22/25 [06:20<00:56, 18.69s/it]"
     ]
    },
    {
     "name": "stdout",
     "output_type": "stream",
     "text": [
      "Group (4, 1) Accuracy: 66.24685138539043\n"
     ]
    },
    {
     "name": "stderr",
     "output_type": "stream",
     "text": [
      "\r",
      "Evaluating group-wise accuracy:  92%|██████████████████████████████████████████████    | 23/25 [06:38<00:36, 18.40s/it]"
     ]
    },
    {
     "name": "stdout",
     "output_type": "stream",
     "text": [
      "Group (4, 2) Accuracy: 66.75062972292191\n"
     ]
    },
    {
     "name": "stderr",
     "output_type": "stream",
     "text": [
      "\r",
      "Evaluating group-wise accuracy:  96%|████████████████████████████████████████████████  | 24/25 [06:55<00:18, 18.07s/it]"
     ]
    },
    {
     "name": "stdout",
     "output_type": "stream",
     "text": [
      "Group (4, 3) Accuracy: 0.7575757575757576\n"
     ]
    },
    {
     "name": "stderr",
     "output_type": "stream",
     "text": [
      "Evaluating group-wise accuracy: 100%|██████████████████████████████████████████████████| 25/25 [07:14<00:00, 17.37s/it]"
     ]
    },
    {
     "name": "stdout",
     "output_type": "stream",
     "text": [
      "Group (4, 4) Accuracy: 98.73737373737374\n"
     ]
    },
    {
     "name": "stderr",
     "output_type": "stream",
     "text": [
      "\n"
     ]
    },
    {
     "data": {
      "text/plain": [
       "{(0, 0): 98.58156028368795,\n",
       " (0, 1): 13.238770685579196,\n",
       " (0, 2): 93.3806146572104,\n",
       " (0, 3): 85.81560283687944,\n",
       " (0, 4): 92.90780141843972,\n",
       " (1, 0): 32.02933985330073,\n",
       " (1, 1): 88.75305623471883,\n",
       " (1, 2): 68.38235294117646,\n",
       " (1, 3): 77.69607843137256,\n",
       " (1, 4): 67.6470588235294,\n",
       " (2, 0): 58.666666666666664,\n",
       " (2, 1): 84.8,\n",
       " (2, 2): 97.06666666666666,\n",
       " (2, 3): 5.066666666666666,\n",
       " (2, 4): 64.97326203208556,\n",
       " (3, 0): 80.90452261306532,\n",
       " (3, 1): 86.64987405541562,\n",
       " (3, 2): 6.801007556675063,\n",
       " (3, 3): 98.48866498740554,\n",
       " (3, 4): 10.075566750629722,\n",
       " (4, 0): 81.61209068010075,\n",
       " (4, 1): 66.24685138539043,\n",
       " (4, 2): 66.75062972292191,\n",
       " (4, 3): 0.7575757575757576,\n",
       " (4, 4): 98.73737373737374}"
      ]
     },
     "execution_count": 20,
     "metadata": {},
     "output_type": "execute_result"
    }
   ],
   "source": [
    "from spuco.evaluate import Evaluator\n",
    "\n",
    "evaluator = Evaluator(\n",
    "    testset=testset,\n",
    "    group_partition=testset.group_partition,\n",
    "    group_weights=trainset.group_weights,\n",
    "    batch_size=64,\n",
    "    model=model,\n",
    "    verbose=True\n",
    ")\n",
    "evaluator.evaluate()"
   ]
  },
  {
   "cell_type": "code",
   "execution_count": 21,
   "id": "ae710eaa",
   "metadata": {},
   "outputs": [
    {
     "data": {
      "text/plain": [
       "((4, 3), 0.7575757575757576)"
      ]
     },
     "execution_count": 21,
     "metadata": {},
     "output_type": "execute_result"
    }
   ],
   "source": [
    "evaluator.worst_group_accuracy"
   ]
  },
  {
   "cell_type": "code",
   "execution_count": 22,
   "id": "2caf28b5",
   "metadata": {},
   "outputs": [
    {
     "data": {
      "text/plain": [
       "95.93536387141634"
      ]
     },
     "execution_count": 22,
     "metadata": {},
     "output_type": "execute_result"
    }
   ],
   "source": [
    "evaluator.average_accuracy"
   ]
  },
  {
   "cell_type": "code",
   "execution_count": 23,
   "id": "abb8c21c",
   "metadata": {},
   "outputs": [
    {
     "data": {
      "text/plain": [
       "39.01"
      ]
     },
     "execution_count": 23,
     "metadata": {},
     "output_type": "execute_result"
    }
   ],
   "source": [
    "evaluator.evaluate_spurious_attribute_prediction()"
   ]
  }
 ],
 "metadata": {
  "kernelspec": {
   "display_name": "Python 3 (ipykernel)",
   "language": "python",
   "name": "python3"
  },
  "language_info": {
   "codemirror_mode": {
    "name": "ipython",
    "version": 3
   },
   "file_extension": ".py",
   "mimetype": "text/x-python",
   "name": "python",
   "nbconvert_exporter": "python",
   "pygments_lexer": "ipython3",
   "version": "3.11.3"
  }
 },
 "nbformat": 4,
 "nbformat_minor": 5
}
